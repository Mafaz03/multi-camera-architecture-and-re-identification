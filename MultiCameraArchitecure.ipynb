{
 "cells": [
  {
   "cell_type": "markdown",
   "metadata": {},
   "source": [
    "## Import Dependencies"
   ]
  },
  {
   "cell_type": "code",
   "execution_count": 1,
   "metadata": {},
   "outputs": [],
   "source": [
    "import torch\n",
    "import cv2 as cv\n",
    "import matplotlib.pyplot as plt\n",
    "\n",
    "import pandas as pd\n",
    "from tqdm import tqdm"
   ]
  },
  {
   "cell_type": "markdown",
   "metadata": {},
   "source": [
    "## Downloading YOLO"
   ]
  },
  {
   "cell_type": "code",
   "execution_count": 2,
   "metadata": {},
   "outputs": [
    {
     "name": "stderr",
     "output_type": "stream",
     "text": [
      "Using cache found in /Users/mohamedmafaz/.cache/torch/hub/ultralytics_yolov5_master\n",
      "\u001b[31m\u001b[1mrequirements:\u001b[0m Ultralytics requirements ['gitpython>=3.1.30', 'setuptools>=65.5.1'] not found, attempting AutoUpdate...\n",
      "/bin/sh: pip: command not found\n",
      "\u001b[31m\u001b[1mrequirements:\u001b[0m ❌ Command 'pip install --no-cache \"gitpython>=3.1.30\" \"setuptools>=65.5.1\" ' returned non-zero exit status 127.\n",
      "YOLOv5 🚀 2023-9-24 Python-3.11.5 torch-2.0.1 CPU\n",
      "\n",
      "Fusing layers... \n",
      "YOLOv5s summary: 213 layers, 7225885 parameters, 0 gradients\n",
      "Adding AutoShape... \n"
     ]
    },
    {
     "data": {
      "text/plain": [
       "AutoShape(\n",
       "  (model): DetectMultiBackend(\n",
       "    (model): DetectionModel(\n",
       "      (model): Sequential(\n",
       "        (0): Conv(\n",
       "          (conv): Conv2d(3, 32, kernel_size=(6, 6), stride=(2, 2), padding=(2, 2))\n",
       "          (act): SiLU(inplace=True)\n",
       "        )\n",
       "        (1): Conv(\n",
       "          (conv): Conv2d(32, 64, kernel_size=(3, 3), stride=(2, 2), padding=(1, 1))\n",
       "          (act): SiLU(inplace=True)\n",
       "        )\n",
       "        (2): C3(\n",
       "          (cv1): Conv(\n",
       "            (conv): Conv2d(64, 32, kernel_size=(1, 1), stride=(1, 1))\n",
       "            (act): SiLU(inplace=True)\n",
       "          )\n",
       "          (cv2): Conv(\n",
       "            (conv): Conv2d(64, 32, kernel_size=(1, 1), stride=(1, 1))\n",
       "            (act): SiLU(inplace=True)\n",
       "          )\n",
       "          (cv3): Conv(\n",
       "            (conv): Conv2d(64, 64, kernel_size=(1, 1), stride=(1, 1))\n",
       "            (act): SiLU(inplace=True)\n",
       "          )\n",
       "          (m): Sequential(\n",
       "            (0): Bottleneck(\n",
       "              (cv1): Conv(\n",
       "                (conv): Conv2d(32, 32, kernel_size=(1, 1), stride=(1, 1))\n",
       "                (act): SiLU(inplace=True)\n",
       "              )\n",
       "              (cv2): Conv(\n",
       "                (conv): Conv2d(32, 32, kernel_size=(3, 3), stride=(1, 1), padding=(1, 1))\n",
       "                (act): SiLU(inplace=True)\n",
       "              )\n",
       "            )\n",
       "          )\n",
       "        )\n",
       "        (3): Conv(\n",
       "          (conv): Conv2d(64, 128, kernel_size=(3, 3), stride=(2, 2), padding=(1, 1))\n",
       "          (act): SiLU(inplace=True)\n",
       "        )\n",
       "        (4): C3(\n",
       "          (cv1): Conv(\n",
       "            (conv): Conv2d(128, 64, kernel_size=(1, 1), stride=(1, 1))\n",
       "            (act): SiLU(inplace=True)\n",
       "          )\n",
       "          (cv2): Conv(\n",
       "            (conv): Conv2d(128, 64, kernel_size=(1, 1), stride=(1, 1))\n",
       "            (act): SiLU(inplace=True)\n",
       "          )\n",
       "          (cv3): Conv(\n",
       "            (conv): Conv2d(128, 128, kernel_size=(1, 1), stride=(1, 1))\n",
       "            (act): SiLU(inplace=True)\n",
       "          )\n",
       "          (m): Sequential(\n",
       "            (0): Bottleneck(\n",
       "              (cv1): Conv(\n",
       "                (conv): Conv2d(64, 64, kernel_size=(1, 1), stride=(1, 1))\n",
       "                (act): SiLU(inplace=True)\n",
       "              )\n",
       "              (cv2): Conv(\n",
       "                (conv): Conv2d(64, 64, kernel_size=(3, 3), stride=(1, 1), padding=(1, 1))\n",
       "                (act): SiLU(inplace=True)\n",
       "              )\n",
       "            )\n",
       "            (1): Bottleneck(\n",
       "              (cv1): Conv(\n",
       "                (conv): Conv2d(64, 64, kernel_size=(1, 1), stride=(1, 1))\n",
       "                (act): SiLU(inplace=True)\n",
       "              )\n",
       "              (cv2): Conv(\n",
       "                (conv): Conv2d(64, 64, kernel_size=(3, 3), stride=(1, 1), padding=(1, 1))\n",
       "                (act): SiLU(inplace=True)\n",
       "              )\n",
       "            )\n",
       "          )\n",
       "        )\n",
       "        (5): Conv(\n",
       "          (conv): Conv2d(128, 256, kernel_size=(3, 3), stride=(2, 2), padding=(1, 1))\n",
       "          (act): SiLU(inplace=True)\n",
       "        )\n",
       "        (6): C3(\n",
       "          (cv1): Conv(\n",
       "            (conv): Conv2d(256, 128, kernel_size=(1, 1), stride=(1, 1))\n",
       "            (act): SiLU(inplace=True)\n",
       "          )\n",
       "          (cv2): Conv(\n",
       "            (conv): Conv2d(256, 128, kernel_size=(1, 1), stride=(1, 1))\n",
       "            (act): SiLU(inplace=True)\n",
       "          )\n",
       "          (cv3): Conv(\n",
       "            (conv): Conv2d(256, 256, kernel_size=(1, 1), stride=(1, 1))\n",
       "            (act): SiLU(inplace=True)\n",
       "          )\n",
       "          (m): Sequential(\n",
       "            (0): Bottleneck(\n",
       "              (cv1): Conv(\n",
       "                (conv): Conv2d(128, 128, kernel_size=(1, 1), stride=(1, 1))\n",
       "                (act): SiLU(inplace=True)\n",
       "              )\n",
       "              (cv2): Conv(\n",
       "                (conv): Conv2d(128, 128, kernel_size=(3, 3), stride=(1, 1), padding=(1, 1))\n",
       "                (act): SiLU(inplace=True)\n",
       "              )\n",
       "            )\n",
       "            (1): Bottleneck(\n",
       "              (cv1): Conv(\n",
       "                (conv): Conv2d(128, 128, kernel_size=(1, 1), stride=(1, 1))\n",
       "                (act): SiLU(inplace=True)\n",
       "              )\n",
       "              (cv2): Conv(\n",
       "                (conv): Conv2d(128, 128, kernel_size=(3, 3), stride=(1, 1), padding=(1, 1))\n",
       "                (act): SiLU(inplace=True)\n",
       "              )\n",
       "            )\n",
       "            (2): Bottleneck(\n",
       "              (cv1): Conv(\n",
       "                (conv): Conv2d(128, 128, kernel_size=(1, 1), stride=(1, 1))\n",
       "                (act): SiLU(inplace=True)\n",
       "              )\n",
       "              (cv2): Conv(\n",
       "                (conv): Conv2d(128, 128, kernel_size=(3, 3), stride=(1, 1), padding=(1, 1))\n",
       "                (act): SiLU(inplace=True)\n",
       "              )\n",
       "            )\n",
       "          )\n",
       "        )\n",
       "        (7): Conv(\n",
       "          (conv): Conv2d(256, 512, kernel_size=(3, 3), stride=(2, 2), padding=(1, 1))\n",
       "          (act): SiLU(inplace=True)\n",
       "        )\n",
       "        (8): C3(\n",
       "          (cv1): Conv(\n",
       "            (conv): Conv2d(512, 256, kernel_size=(1, 1), stride=(1, 1))\n",
       "            (act): SiLU(inplace=True)\n",
       "          )\n",
       "          (cv2): Conv(\n",
       "            (conv): Conv2d(512, 256, kernel_size=(1, 1), stride=(1, 1))\n",
       "            (act): SiLU(inplace=True)\n",
       "          )\n",
       "          (cv3): Conv(\n",
       "            (conv): Conv2d(512, 512, kernel_size=(1, 1), stride=(1, 1))\n",
       "            (act): SiLU(inplace=True)\n",
       "          )\n",
       "          (m): Sequential(\n",
       "            (0): Bottleneck(\n",
       "              (cv1): Conv(\n",
       "                (conv): Conv2d(256, 256, kernel_size=(1, 1), stride=(1, 1))\n",
       "                (act): SiLU(inplace=True)\n",
       "              )\n",
       "              (cv2): Conv(\n",
       "                (conv): Conv2d(256, 256, kernel_size=(3, 3), stride=(1, 1), padding=(1, 1))\n",
       "                (act): SiLU(inplace=True)\n",
       "              )\n",
       "            )\n",
       "          )\n",
       "        )\n",
       "        (9): SPPF(\n",
       "          (cv1): Conv(\n",
       "            (conv): Conv2d(512, 256, kernel_size=(1, 1), stride=(1, 1))\n",
       "            (act): SiLU(inplace=True)\n",
       "          )\n",
       "          (cv2): Conv(\n",
       "            (conv): Conv2d(1024, 512, kernel_size=(1, 1), stride=(1, 1))\n",
       "            (act): SiLU(inplace=True)\n",
       "          )\n",
       "          (m): MaxPool2d(kernel_size=5, stride=1, padding=2, dilation=1, ceil_mode=False)\n",
       "        )\n",
       "        (10): Conv(\n",
       "          (conv): Conv2d(512, 256, kernel_size=(1, 1), stride=(1, 1))\n",
       "          (act): SiLU(inplace=True)\n",
       "        )\n",
       "        (11): Upsample(scale_factor=2.0, mode='nearest')\n",
       "        (12): Concat()\n",
       "        (13): C3(\n",
       "          (cv1): Conv(\n",
       "            (conv): Conv2d(512, 128, kernel_size=(1, 1), stride=(1, 1))\n",
       "            (act): SiLU(inplace=True)\n",
       "          )\n",
       "          (cv2): Conv(\n",
       "            (conv): Conv2d(512, 128, kernel_size=(1, 1), stride=(1, 1))\n",
       "            (act): SiLU(inplace=True)\n",
       "          )\n",
       "          (cv3): Conv(\n",
       "            (conv): Conv2d(256, 256, kernel_size=(1, 1), stride=(1, 1))\n",
       "            (act): SiLU(inplace=True)\n",
       "          )\n",
       "          (m): Sequential(\n",
       "            (0): Bottleneck(\n",
       "              (cv1): Conv(\n",
       "                (conv): Conv2d(128, 128, kernel_size=(1, 1), stride=(1, 1))\n",
       "                (act): SiLU(inplace=True)\n",
       "              )\n",
       "              (cv2): Conv(\n",
       "                (conv): Conv2d(128, 128, kernel_size=(3, 3), stride=(1, 1), padding=(1, 1))\n",
       "                (act): SiLU(inplace=True)\n",
       "              )\n",
       "            )\n",
       "          )\n",
       "        )\n",
       "        (14): Conv(\n",
       "          (conv): Conv2d(256, 128, kernel_size=(1, 1), stride=(1, 1))\n",
       "          (act): SiLU(inplace=True)\n",
       "        )\n",
       "        (15): Upsample(scale_factor=2.0, mode='nearest')\n",
       "        (16): Concat()\n",
       "        (17): C3(\n",
       "          (cv1): Conv(\n",
       "            (conv): Conv2d(256, 64, kernel_size=(1, 1), stride=(1, 1))\n",
       "            (act): SiLU(inplace=True)\n",
       "          )\n",
       "          (cv2): Conv(\n",
       "            (conv): Conv2d(256, 64, kernel_size=(1, 1), stride=(1, 1))\n",
       "            (act): SiLU(inplace=True)\n",
       "          )\n",
       "          (cv3): Conv(\n",
       "            (conv): Conv2d(128, 128, kernel_size=(1, 1), stride=(1, 1))\n",
       "            (act): SiLU(inplace=True)\n",
       "          )\n",
       "          (m): Sequential(\n",
       "            (0): Bottleneck(\n",
       "              (cv1): Conv(\n",
       "                (conv): Conv2d(64, 64, kernel_size=(1, 1), stride=(1, 1))\n",
       "                (act): SiLU(inplace=True)\n",
       "              )\n",
       "              (cv2): Conv(\n",
       "                (conv): Conv2d(64, 64, kernel_size=(3, 3), stride=(1, 1), padding=(1, 1))\n",
       "                (act): SiLU(inplace=True)\n",
       "              )\n",
       "            )\n",
       "          )\n",
       "        )\n",
       "        (18): Conv(\n",
       "          (conv): Conv2d(128, 128, kernel_size=(3, 3), stride=(2, 2), padding=(1, 1))\n",
       "          (act): SiLU(inplace=True)\n",
       "        )\n",
       "        (19): Concat()\n",
       "        (20): C3(\n",
       "          (cv1): Conv(\n",
       "            (conv): Conv2d(256, 128, kernel_size=(1, 1), stride=(1, 1))\n",
       "            (act): SiLU(inplace=True)\n",
       "          )\n",
       "          (cv2): Conv(\n",
       "            (conv): Conv2d(256, 128, kernel_size=(1, 1), stride=(1, 1))\n",
       "            (act): SiLU(inplace=True)\n",
       "          )\n",
       "          (cv3): Conv(\n",
       "            (conv): Conv2d(256, 256, kernel_size=(1, 1), stride=(1, 1))\n",
       "            (act): SiLU(inplace=True)\n",
       "          )\n",
       "          (m): Sequential(\n",
       "            (0): Bottleneck(\n",
       "              (cv1): Conv(\n",
       "                (conv): Conv2d(128, 128, kernel_size=(1, 1), stride=(1, 1))\n",
       "                (act): SiLU(inplace=True)\n",
       "              )\n",
       "              (cv2): Conv(\n",
       "                (conv): Conv2d(128, 128, kernel_size=(3, 3), stride=(1, 1), padding=(1, 1))\n",
       "                (act): SiLU(inplace=True)\n",
       "              )\n",
       "            )\n",
       "          )\n",
       "        )\n",
       "        (21): Conv(\n",
       "          (conv): Conv2d(256, 256, kernel_size=(3, 3), stride=(2, 2), padding=(1, 1))\n",
       "          (act): SiLU(inplace=True)\n",
       "        )\n",
       "        (22): Concat()\n",
       "        (23): C3(\n",
       "          (cv1): Conv(\n",
       "            (conv): Conv2d(512, 256, kernel_size=(1, 1), stride=(1, 1))\n",
       "            (act): SiLU(inplace=True)\n",
       "          )\n",
       "          (cv2): Conv(\n",
       "            (conv): Conv2d(512, 256, kernel_size=(1, 1), stride=(1, 1))\n",
       "            (act): SiLU(inplace=True)\n",
       "          )\n",
       "          (cv3): Conv(\n",
       "            (conv): Conv2d(512, 512, kernel_size=(1, 1), stride=(1, 1))\n",
       "            (act): SiLU(inplace=True)\n",
       "          )\n",
       "          (m): Sequential(\n",
       "            (0): Bottleneck(\n",
       "              (cv1): Conv(\n",
       "                (conv): Conv2d(256, 256, kernel_size=(1, 1), stride=(1, 1))\n",
       "                (act): SiLU(inplace=True)\n",
       "              )\n",
       "              (cv2): Conv(\n",
       "                (conv): Conv2d(256, 256, kernel_size=(3, 3), stride=(1, 1), padding=(1, 1))\n",
       "                (act): SiLU(inplace=True)\n",
       "              )\n",
       "            )\n",
       "          )\n",
       "        )\n",
       "        (24): Detect(\n",
       "          (m): ModuleList(\n",
       "            (0): Conv2d(128, 255, kernel_size=(1, 1), stride=(1, 1))\n",
       "            (1): Conv2d(256, 255, kernel_size=(1, 1), stride=(1, 1))\n",
       "            (2): Conv2d(512, 255, kernel_size=(1, 1), stride=(1, 1))\n",
       "          )\n",
       "        )\n",
       "      )\n",
       "    )\n",
       "  )\n",
       ")"
      ]
     },
     "execution_count": 2,
     "metadata": {},
     "output_type": "execute_result"
    }
   ],
   "source": [
    "model = torch.hub.load('ultralytics/yolov5', 'yolov5s', pretrained=True)\n",
    "model"
   ]
  },
  {
   "cell_type": "code",
   "execution_count": 3,
   "metadata": {},
   "outputs": [
    {
     "data": {
      "text/html": [
       "<div>\n",
       "<style scoped>\n",
       "    .dataframe tbody tr th:only-of-type {\n",
       "        vertical-align: middle;\n",
       "    }\n",
       "\n",
       "    .dataframe tbody tr th {\n",
       "        vertical-align: top;\n",
       "    }\n",
       "\n",
       "    .dataframe thead th {\n",
       "        text-align: right;\n",
       "    }\n",
       "</style>\n",
       "<table border=\"1\" class=\"dataframe\">\n",
       "  <thead>\n",
       "    <tr style=\"text-align: right;\">\n",
       "      <th></th>\n",
       "      <th>Frame</th>\n",
       "      <th>Distance</th>\n",
       "      <th>LocX</th>\n",
       "      <th>LocY</th>\n",
       "    </tr>\n",
       "  </thead>\n",
       "  <tbody>\n",
       "    <tr>\n",
       "      <th>0</th>\n",
       "      <td>1</td>\n",
       "      <td>50.568724</td>\n",
       "      <td>-0.211293</td>\n",
       "      <td>8.121851</td>\n",
       "    </tr>\n",
       "    <tr>\n",
       "      <th>1</th>\n",
       "      <td>2</td>\n",
       "      <td>50.568724</td>\n",
       "      <td>-0.211293</td>\n",
       "      <td>8.121851</td>\n",
       "    </tr>\n",
       "    <tr>\n",
       "      <th>2</th>\n",
       "      <td>3</td>\n",
       "      <td>50.566764</td>\n",
       "      <td>-0.209846</td>\n",
       "      <td>8.107642</td>\n",
       "    </tr>\n",
       "    <tr>\n",
       "      <th>3</th>\n",
       "      <td>4</td>\n",
       "      <td>50.552435</td>\n",
       "      <td>-0.199176</td>\n",
       "      <td>8.002850</td>\n",
       "    </tr>\n",
       "    <tr>\n",
       "      <th>4</th>\n",
       "      <td>5</td>\n",
       "      <td>50.538319</td>\n",
       "      <td>-0.188506</td>\n",
       "      <td>7.898057</td>\n",
       "    </tr>\n",
       "    <tr>\n",
       "      <th>...</th>\n",
       "      <td>...</td>\n",
       "      <td>...</td>\n",
       "      <td>...</td>\n",
       "      <td>...</td>\n",
       "    </tr>\n",
       "    <tr>\n",
       "      <th>225</th>\n",
       "      <td>226</td>\n",
       "      <td>37.381474</td>\n",
       "      <td>-12.884773</td>\n",
       "      <td>-8.529395</td>\n",
       "    </tr>\n",
       "    <tr>\n",
       "      <th>226</th>\n",
       "      <td>227</td>\n",
       "      <td>37.288935</td>\n",
       "      <td>-12.987406</td>\n",
       "      <td>-8.553098</td>\n",
       "    </tr>\n",
       "    <tr>\n",
       "      <th>227</th>\n",
       "      <td>228</td>\n",
       "      <td>37.196470</td>\n",
       "      <td>-13.090038</td>\n",
       "      <td>-8.576802</td>\n",
       "    </tr>\n",
       "    <tr>\n",
       "      <th>228</th>\n",
       "      <td>229</td>\n",
       "      <td>37.104070</td>\n",
       "      <td>-13.192671</td>\n",
       "      <td>-8.600506</td>\n",
       "    </tr>\n",
       "    <tr>\n",
       "      <th>229</th>\n",
       "      <td>230</td>\n",
       "      <td>37.011742</td>\n",
       "      <td>-13.295301</td>\n",
       "      <td>-8.624210</td>\n",
       "    </tr>\n",
       "  </tbody>\n",
       "</table>\n",
       "<p>230 rows × 4 columns</p>\n",
       "</div>"
      ],
      "text/plain": [
       "     Frame   Distance       LocX      LocY\n",
       "0        1  50.568724  -0.211293  8.121851\n",
       "1        2  50.568724  -0.211293  8.121851\n",
       "2        3  50.566764  -0.209846  8.107642\n",
       "3        4  50.552435  -0.199176  8.002850\n",
       "4        5  50.538319  -0.188506  7.898057\n",
       "..     ...        ...        ...       ...\n",
       "225    226  37.381474 -12.884773 -8.529395\n",
       "226    227  37.288935 -12.987406 -8.553098\n",
       "227    228  37.196470 -13.090038 -8.576802\n",
       "228    229  37.104070 -13.192671 -8.600506\n",
       "229    230  37.011742 -13.295301 -8.624210\n",
       "\n",
       "[230 rows x 4 columns]"
      ]
     },
     "execution_count": 3,
     "metadata": {},
     "output_type": "execute_result"
    }
   ],
   "source": [
    "data_cam1 = pd.read_csv(\"walk_data_cam1.csv\")\n",
    "data_cam1.LocX = data_cam1.LocX.str.replace(\"[\" , \"\").astype(\"float64\")\n",
    "data_cam1.LocZ = data_cam1.LocZ.str.replace(\"]\" , \"\").astype(\"float64\")\n",
    "data_cam1 = data_cam1.drop(columns=\"LocZ\" , axis=1)\n",
    "data_cam1"
   ]
  },
  {
   "cell_type": "markdown",
   "metadata": {},
   "source": [
    "## Importing Lookup table and preporcessing it\n"
   ]
  },
  {
   "cell_type": "code",
   "execution_count": 4,
   "metadata": {},
   "outputs": [
    {
     "data": {
      "text/html": [
       "<div>\n",
       "<style scoped>\n",
       "    .dataframe tbody tr th:only-of-type {\n",
       "        vertical-align: middle;\n",
       "    }\n",
       "\n",
       "    .dataframe tbody tr th {\n",
       "        vertical-align: top;\n",
       "    }\n",
       "\n",
       "    .dataframe thead th {\n",
       "        text-align: right;\n",
       "    }\n",
       "</style>\n",
       "<table border=\"1\" class=\"dataframe\">\n",
       "  <thead>\n",
       "    <tr style=\"text-align: right;\">\n",
       "      <th></th>\n",
       "      <th>Frame</th>\n",
       "      <th>Distance</th>\n",
       "      <th>LocX</th>\n",
       "      <th>LocY</th>\n",
       "    </tr>\n",
       "  </thead>\n",
       "  <tbody>\n",
       "    <tr>\n",
       "      <th>0</th>\n",
       "      <td>1</td>\n",
       "      <td>42.964189</td>\n",
       "      <td>-0.211293</td>\n",
       "      <td>8.121851</td>\n",
       "    </tr>\n",
       "    <tr>\n",
       "      <th>1</th>\n",
       "      <td>2</td>\n",
       "      <td>42.964189</td>\n",
       "      <td>-0.211293</td>\n",
       "      <td>8.121851</td>\n",
       "    </tr>\n",
       "    <tr>\n",
       "      <th>2</th>\n",
       "      <td>3</td>\n",
       "      <td>42.951242</td>\n",
       "      <td>-0.209846</td>\n",
       "      <td>8.107642</td>\n",
       "    </tr>\n",
       "    <tr>\n",
       "      <th>3</th>\n",
       "      <td>4</td>\n",
       "      <td>42.855791</td>\n",
       "      <td>-0.199176</td>\n",
       "      <td>8.002850</td>\n",
       "    </tr>\n",
       "    <tr>\n",
       "      <th>4</th>\n",
       "      <td>5</td>\n",
       "      <td>42.760386</td>\n",
       "      <td>-0.188506</td>\n",
       "      <td>7.898057</td>\n",
       "    </tr>\n",
       "    <tr>\n",
       "      <th>...</th>\n",
       "      <td>...</td>\n",
       "      <td>...</td>\n",
       "      <td>...</td>\n",
       "      <td>...</td>\n",
       "    </tr>\n",
       "    <tr>\n",
       "      <th>225</th>\n",
       "      <td>226</td>\n",
       "      <td>26.876313</td>\n",
       "      <td>-12.884773</td>\n",
       "      <td>-8.529395</td>\n",
       "    </tr>\n",
       "    <tr>\n",
       "      <th>226</th>\n",
       "      <td>227</td>\n",
       "      <td>26.870016</td>\n",
       "      <td>-12.987406</td>\n",
       "      <td>-8.553098</td>\n",
       "    </tr>\n",
       "    <tr>\n",
       "      <th>227</th>\n",
       "      <td>228</td>\n",
       "      <td>26.864126</td>\n",
       "      <td>-13.090038</td>\n",
       "      <td>-8.576802</td>\n",
       "    </tr>\n",
       "    <tr>\n",
       "      <th>228</th>\n",
       "      <td>229</td>\n",
       "      <td>26.858649</td>\n",
       "      <td>-13.192671</td>\n",
       "      <td>-8.600506</td>\n",
       "    </tr>\n",
       "    <tr>\n",
       "      <th>229</th>\n",
       "      <td>230</td>\n",
       "      <td>26.853583</td>\n",
       "      <td>-13.295301</td>\n",
       "      <td>-8.624210</td>\n",
       "    </tr>\n",
       "  </tbody>\n",
       "</table>\n",
       "<p>230 rows × 4 columns</p>\n",
       "</div>"
      ],
      "text/plain": [
       "     Frame   Distance       LocX      LocY\n",
       "0        1  42.964189  -0.211293  8.121851\n",
       "1        2  42.964189  -0.211293  8.121851\n",
       "2        3  42.951242  -0.209846  8.107642\n",
       "3        4  42.855791  -0.199176  8.002850\n",
       "4        5  42.760386  -0.188506  7.898057\n",
       "..     ...        ...        ...       ...\n",
       "225    226  26.876313 -12.884773 -8.529395\n",
       "226    227  26.870016 -12.987406 -8.553098\n",
       "227    228  26.864126 -13.090038 -8.576802\n",
       "228    229  26.858649 -13.192671 -8.600506\n",
       "229    230  26.853583 -13.295301 -8.624210\n",
       "\n",
       "[230 rows x 4 columns]"
      ]
     },
     "execution_count": 4,
     "metadata": {},
     "output_type": "execute_result"
    }
   ],
   "source": [
    "data_cam2 = pd.read_csv(\"walk_data_cam2.csv\")\n",
    "data_cam2.LocX = data_cam2.LocX.str.replace(\"[\" , \"\").astype(\"float64\")\n",
    "data_cam2.LocZ = data_cam2.LocZ.str.replace(\"]\" , \"\").astype(\"float64\")\n",
    "data_cam2 = data_cam2.drop(columns=\"LocZ\" , axis=1)\n",
    "data_cam2"
   ]
  },
  {
   "cell_type": "markdown",
   "metadata": {},
   "source": [
    "## Adding bbox's Center , LocX and LocY "
   ]
  },
  {
   "cell_type": "code",
   "execution_count": 7,
   "metadata": {},
   "outputs": [
    {
     "name": "stderr",
     "output_type": "stream",
     "text": [
      "100%|██████████| 230/230 [00:57<00:00,  4.02it/s]\n",
      "100%|██████████| 230/230 [00:48<00:00,  4.73it/s]\n"
     ]
    }
   ],
   "source": [
    "null_encounters = 0\n",
    "\n",
    "for cam in [\"Cam1\" , \"Cam2\"]:\n",
    "\n",
    "    center_x = []\n",
    "    center_y = []\n",
    "    area = []\n",
    "\n",
    "\n",
    "    for frame in tqdm(range(1,230 + 1)):\n",
    "        link = f\"{cam}/cam_1{frame:04d}.png\"\n",
    "\n",
    "        if model(cv.imread(link)).xywh[0].shape[0] != 0:\n",
    "            x , y , w , h = model(cv.imread(link)).xywh[0][0][:4]\n",
    "            x , y , w , h = float(x) , float(y) , float(w) , float(h)\n",
    "            center_x.append((x + (w / 2)))\n",
    "            center_y.append((y + (h / 2)))\n",
    "            area.append((w * h))\n",
    "            \n",
    "        else:\n",
    "\n",
    "            null_encounters += 1\n",
    "            if cam == \"Cam1\":\n",
    "                data_cam1 = data_cam1[data_cam1.Frame != frame]\n",
    "            elif cam == \"Cam2\":\n",
    "                data_cam2 = data_cam2[data_cam2.Frame != frame]\n",
    "\n",
    "    if cam == \"Cam1\":\n",
    "        data_cam1[\"Center_x\"] = center_x\n",
    "        data_cam1[\"Center_y\"] = center_y\n",
    "        data_cam1[\"Area\"] = area\n",
    "    elif cam == \"Cam2\":\n",
    "        data_cam2[\"Center_x\"] = center_x\n",
    "        data_cam2[\"Center_y\"] = center_y\n",
    "        data_cam2[\"Area\"] = area\n",
    "\n",
    "\n",
    "\n"
   ]
  },
  {
   "cell_type": "code",
   "execution_count": 6,
   "metadata": {},
   "outputs": [
    {
     "data": {
      "text/plain": [
       "29"
      ]
     },
     "execution_count": 6,
     "metadata": {},
     "output_type": "execute_result"
    }
   ],
   "source": [
    "null_encounters"
   ]
  },
  {
   "cell_type": "code",
   "execution_count": null,
   "metadata": {},
   "outputs": [
    {
     "data": {
      "text/html": [
       "<div>\n",
       "<style scoped>\n",
       "    .dataframe tbody tr th:only-of-type {\n",
       "        vertical-align: middle;\n",
       "    }\n",
       "\n",
       "    .dataframe tbody tr th {\n",
       "        vertical-align: top;\n",
       "    }\n",
       "\n",
       "    .dataframe thead th {\n",
       "        text-align: right;\n",
       "    }\n",
       "</style>\n",
       "<table border=\"1\" class=\"dataframe\">\n",
       "  <thead>\n",
       "    <tr style=\"text-align: right;\">\n",
       "      <th></th>\n",
       "      <th>Frame</th>\n",
       "      <th>Distance</th>\n",
       "      <th>LocX</th>\n",
       "      <th>LocY</th>\n",
       "      <th>Center_x</th>\n",
       "      <th>Center_y</th>\n",
       "      <th>Area</th>\n",
       "      <th>difference_</th>\n",
       "    </tr>\n",
       "  </thead>\n",
       "  <tbody>\n",
       "    <tr>\n",
       "      <th>0</th>\n",
       "      <td>1</td>\n",
       "      <td>50.568724</td>\n",
       "      <td>-0.211293</td>\n",
       "      <td>8.121851</td>\n",
       "      <td>1559.256958</td>\n",
       "      <td>292.132660</td>\n",
       "      <td>4720.890720</td>\n",
       "      <td>13.869493</td>\n",
       "    </tr>\n",
       "    <tr>\n",
       "      <th>1</th>\n",
       "      <td>2</td>\n",
       "      <td>50.568724</td>\n",
       "      <td>-0.211293</td>\n",
       "      <td>8.121851</td>\n",
       "      <td>1559.697327</td>\n",
       "      <td>291.870598</td>\n",
       "      <td>4757.625006</td>\n",
       "      <td>13.869493</td>\n",
       "    </tr>\n",
       "    <tr>\n",
       "      <th>2</th>\n",
       "      <td>3</td>\n",
       "      <td>50.566764</td>\n",
       "      <td>-0.209846</td>\n",
       "      <td>8.107642</td>\n",
       "      <td>1559.552795</td>\n",
       "      <td>289.603569</td>\n",
       "      <td>4442.816539</td>\n",
       "      <td>13.867534</td>\n",
       "    </tr>\n",
       "    <tr>\n",
       "      <th>3</th>\n",
       "      <td>4</td>\n",
       "      <td>50.552435</td>\n",
       "      <td>-0.199176</td>\n",
       "      <td>8.002850</td>\n",
       "      <td>1562.484741</td>\n",
       "      <td>294.834953</td>\n",
       "      <td>4705.562976</td>\n",
       "      <td>13.853205</td>\n",
       "    </tr>\n",
       "    <tr>\n",
       "      <th>4</th>\n",
       "      <td>5</td>\n",
       "      <td>50.538319</td>\n",
       "      <td>-0.188506</td>\n",
       "      <td>7.898057</td>\n",
       "      <td>1565.834106</td>\n",
       "      <td>296.199585</td>\n",
       "      <td>4563.729400</td>\n",
       "      <td>13.839089</td>\n",
       "    </tr>\n",
       "    <tr>\n",
       "      <th>...</th>\n",
       "      <td>...</td>\n",
       "      <td>...</td>\n",
       "      <td>...</td>\n",
       "      <td>...</td>\n",
       "      <td>...</td>\n",
       "      <td>...</td>\n",
       "      <td>...</td>\n",
       "      <td>...</td>\n",
       "    </tr>\n",
       "    <tr>\n",
       "      <th>222</th>\n",
       "      <td>223</td>\n",
       "      <td>37.659485</td>\n",
       "      <td>-12.576876</td>\n",
       "      <td>-8.458282</td>\n",
       "      <td>634.831024</td>\n",
       "      <td>800.618195</td>\n",
       "      <td>7090.247925</td>\n",
       "      <td>0.960255</td>\n",
       "    </tr>\n",
       "    <tr>\n",
       "      <th>226</th>\n",
       "      <td>227</td>\n",
       "      <td>37.288935</td>\n",
       "      <td>-12.987406</td>\n",
       "      <td>-8.553098</td>\n",
       "      <td>611.717621</td>\n",
       "      <td>797.455780</td>\n",
       "      <td>13596.465677</td>\n",
       "      <td>0.589705</td>\n",
       "    </tr>\n",
       "    <tr>\n",
       "      <th>227</th>\n",
       "      <td>228</td>\n",
       "      <td>37.196470</td>\n",
       "      <td>-13.090038</td>\n",
       "      <td>-8.576802</td>\n",
       "      <td>607.908752</td>\n",
       "      <td>803.530548</td>\n",
       "      <td>15781.840525</td>\n",
       "      <td>0.497239</td>\n",
       "    </tr>\n",
       "    <tr>\n",
       "      <th>228</th>\n",
       "      <td>229</td>\n",
       "      <td>37.104070</td>\n",
       "      <td>-13.192671</td>\n",
       "      <td>-8.600506</td>\n",
       "      <td>606.280914</td>\n",
       "      <td>810.282410</td>\n",
       "      <td>17461.162368</td>\n",
       "      <td>0.404840</td>\n",
       "    </tr>\n",
       "    <tr>\n",
       "      <th>229</th>\n",
       "      <td>230</td>\n",
       "      <td>37.011742</td>\n",
       "      <td>-13.295301</td>\n",
       "      <td>-8.624210</td>\n",
       "      <td>597.811371</td>\n",
       "      <td>808.761871</td>\n",
       "      <td>17581.747893</td>\n",
       "      <td>0.312512</td>\n",
       "    </tr>\n",
       "  </tbody>\n",
       "</table>\n",
       "<p>204 rows × 8 columns</p>\n",
       "</div>"
      ],
      "text/plain": [
       "     Frame   Distance       LocX      LocY     Center_x    Center_y  \\\n",
       "0        1  50.568724  -0.211293  8.121851  1559.256958  292.132660   \n",
       "1        2  50.568724  -0.211293  8.121851  1559.697327  291.870598   \n",
       "2        3  50.566764  -0.209846  8.107642  1559.552795  289.603569   \n",
       "3        4  50.552435  -0.199176  8.002850  1562.484741  294.834953   \n",
       "4        5  50.538319  -0.188506  7.898057  1565.834106  296.199585   \n",
       "..     ...        ...        ...       ...          ...         ...   \n",
       "222    223  37.659485 -12.576876 -8.458282   634.831024  800.618195   \n",
       "226    227  37.288935 -12.987406 -8.553098   611.717621  797.455780   \n",
       "227    228  37.196470 -13.090038 -8.576802   607.908752  803.530548   \n",
       "228    229  37.104070 -13.192671 -8.600506   606.280914  810.282410   \n",
       "229    230  37.011742 -13.295301 -8.624210   597.811371  808.761871   \n",
       "\n",
       "             Area  difference_  \n",
       "0     4720.890720    13.869493  \n",
       "1     4757.625006    13.869493  \n",
       "2     4442.816539    13.867534  \n",
       "3     4705.562976    13.853205  \n",
       "4     4563.729400    13.839089  \n",
       "..            ...          ...  \n",
       "222   7090.247925     0.960255  \n",
       "226  13596.465677     0.589705  \n",
       "227  15781.840525     0.497239  \n",
       "228  17461.162368     0.404840  \n",
       "229  17581.747893     0.312512  \n",
       "\n",
       "[204 rows x 8 columns]"
      ]
     },
     "execution_count": 259,
     "metadata": {},
     "output_type": "execute_result"
    }
   ],
   "source": [
    "data_cam1"
   ]
  },
  {
   "cell_type": "code",
   "execution_count": null,
   "metadata": {},
   "outputs": [
    {
     "data": {
      "text/html": [
       "<div>\n",
       "<style scoped>\n",
       "    .dataframe tbody tr th:only-of-type {\n",
       "        vertical-align: middle;\n",
       "    }\n",
       "\n",
       "    .dataframe tbody tr th {\n",
       "        vertical-align: top;\n",
       "    }\n",
       "\n",
       "    .dataframe thead th {\n",
       "        text-align: right;\n",
       "    }\n",
       "</style>\n",
       "<table border=\"1\" class=\"dataframe\">\n",
       "  <thead>\n",
       "    <tr style=\"text-align: right;\">\n",
       "      <th></th>\n",
       "      <th>Frame</th>\n",
       "      <th>Distance</th>\n",
       "      <th>LocX</th>\n",
       "      <th>LocY</th>\n",
       "      <th>Center_x</th>\n",
       "      <th>Center_y</th>\n",
       "      <th>Area</th>\n",
       "      <th>difference_</th>\n",
       "    </tr>\n",
       "  </thead>\n",
       "  <tbody>\n",
       "    <tr>\n",
       "      <th>0</th>\n",
       "      <td>1</td>\n",
       "      <td>42.964189</td>\n",
       "      <td>-0.211293</td>\n",
       "      <td>8.121851</td>\n",
       "      <td>321.077820</td>\n",
       "      <td>165.055729</td>\n",
       "      <td>2603.953113</td>\n",
       "      <td>16.164152</td>\n",
       "    </tr>\n",
       "    <tr>\n",
       "      <th>1</th>\n",
       "      <td>2</td>\n",
       "      <td>42.964189</td>\n",
       "      <td>-0.211293</td>\n",
       "      <td>8.121851</td>\n",
       "      <td>319.321335</td>\n",
       "      <td>164.854019</td>\n",
       "      <td>2384.499069</td>\n",
       "      <td>16.164152</td>\n",
       "    </tr>\n",
       "    <tr>\n",
       "      <th>2</th>\n",
       "      <td>3</td>\n",
       "      <td>42.951242</td>\n",
       "      <td>-0.209846</td>\n",
       "      <td>8.107642</td>\n",
       "      <td>322.214706</td>\n",
       "      <td>164.893158</td>\n",
       "      <td>2629.647474</td>\n",
       "      <td>16.151205</td>\n",
       "    </tr>\n",
       "    <tr>\n",
       "      <th>3</th>\n",
       "      <td>4</td>\n",
       "      <td>42.855791</td>\n",
       "      <td>-0.199176</td>\n",
       "      <td>8.002850</td>\n",
       "      <td>331.762955</td>\n",
       "      <td>164.043377</td>\n",
       "      <td>2822.929830</td>\n",
       "      <td>16.055754</td>\n",
       "    </tr>\n",
       "    <tr>\n",
       "      <th>4</th>\n",
       "      <td>5</td>\n",
       "      <td>42.760386</td>\n",
       "      <td>-0.188506</td>\n",
       "      <td>7.898057</td>\n",
       "      <td>340.152542</td>\n",
       "      <td>165.476639</td>\n",
       "      <td>3329.042456</td>\n",
       "      <td>15.960350</td>\n",
       "    </tr>\n",
       "    <tr>\n",
       "      <th>...</th>\n",
       "      <td>...</td>\n",
       "      <td>...</td>\n",
       "      <td>...</td>\n",
       "      <td>...</td>\n",
       "      <td>...</td>\n",
       "      <td>...</td>\n",
       "      <td>...</td>\n",
       "      <td>...</td>\n",
       "    </tr>\n",
       "    <tr>\n",
       "      <th>225</th>\n",
       "      <td>226</td>\n",
       "      <td>26.876313</td>\n",
       "      <td>-12.884773</td>\n",
       "      <td>-8.529395</td>\n",
       "      <td>1337.628906</td>\n",
       "      <td>407.863480</td>\n",
       "      <td>5611.135776</td>\n",
       "      <td>0.076276</td>\n",
       "    </tr>\n",
       "    <tr>\n",
       "      <th>226</th>\n",
       "      <td>227</td>\n",
       "      <td>26.870016</td>\n",
       "      <td>-12.987406</td>\n",
       "      <td>-8.553098</td>\n",
       "      <td>1340.999939</td>\n",
       "      <td>415.541489</td>\n",
       "      <td>6292.480280</td>\n",
       "      <td>0.069979</td>\n",
       "    </tr>\n",
       "    <tr>\n",
       "      <th>227</th>\n",
       "      <td>228</td>\n",
       "      <td>26.864126</td>\n",
       "      <td>-13.090038</td>\n",
       "      <td>-8.576802</td>\n",
       "      <td>1342.759766</td>\n",
       "      <td>419.438461</td>\n",
       "      <td>6318.115899</td>\n",
       "      <td>0.064089</td>\n",
       "    </tr>\n",
       "    <tr>\n",
       "      <th>228</th>\n",
       "      <td>229</td>\n",
       "      <td>26.858649</td>\n",
       "      <td>-13.192671</td>\n",
       "      <td>-8.600506</td>\n",
       "      <td>1345.005310</td>\n",
       "      <td>420.920929</td>\n",
       "      <td>6603.624156</td>\n",
       "      <td>0.058612</td>\n",
       "    </tr>\n",
       "    <tr>\n",
       "      <th>229</th>\n",
       "      <td>230</td>\n",
       "      <td>26.853583</td>\n",
       "      <td>-13.295301</td>\n",
       "      <td>-8.624210</td>\n",
       "      <td>1348.471313</td>\n",
       "      <td>422.139038</td>\n",
       "      <td>6135.986818</td>\n",
       "      <td>0.053547</td>\n",
       "    </tr>\n",
       "  </tbody>\n",
       "</table>\n",
       "<p>223 rows × 8 columns</p>\n",
       "</div>"
      ],
      "text/plain": [
       "     Frame   Distance       LocX      LocY     Center_x    Center_y  \\\n",
       "0        1  42.964189  -0.211293  8.121851   321.077820  165.055729   \n",
       "1        2  42.964189  -0.211293  8.121851   319.321335  164.854019   \n",
       "2        3  42.951242  -0.209846  8.107642   322.214706  164.893158   \n",
       "3        4  42.855791  -0.199176  8.002850   331.762955  164.043377   \n",
       "4        5  42.760386  -0.188506  7.898057   340.152542  165.476639   \n",
       "..     ...        ...        ...       ...          ...         ...   \n",
       "225    226  26.876313 -12.884773 -8.529395  1337.628906  407.863480   \n",
       "226    227  26.870016 -12.987406 -8.553098  1340.999939  415.541489   \n",
       "227    228  26.864126 -13.090038 -8.576802  1342.759766  419.438461   \n",
       "228    229  26.858649 -13.192671 -8.600506  1345.005310  420.920929   \n",
       "229    230  26.853583 -13.295301 -8.624210  1348.471313  422.139038   \n",
       "\n",
       "            Area  difference_  \n",
       "0    2603.953113    16.164152  \n",
       "1    2384.499069    16.164152  \n",
       "2    2629.647474    16.151205  \n",
       "3    2822.929830    16.055754  \n",
       "4    3329.042456    15.960350  \n",
       "..           ...          ...  \n",
       "225  5611.135776     0.076276  \n",
       "226  6292.480280     0.069979  \n",
       "227  6318.115899     0.064089  \n",
       "228  6603.624156     0.058612  \n",
       "229  6135.986818     0.053547  \n",
       "\n",
       "[223 rows x 8 columns]"
      ]
     },
     "execution_count": 260,
     "metadata": {},
     "output_type": "execute_result"
    }
   ],
   "source": [
    "data_cam2"
   ]
  },
  {
   "cell_type": "markdown",
   "metadata": {},
   "source": [
    "## Function to get Distance(from camera to person) and LocX and LocY corresponding to it"
   ]
  },
  {
   "cell_type": "code",
   "execution_count": null,
   "metadata": {},
   "outputs": [],
   "source": [
    "def get_dis_Loc(link : str , look_up_table : pd.core.frame.DataFrame , h_ = 1.6 , f = 1714) -> tuple[float , float , float]:\n",
    "  \"\"\"\n",
    "  Input : Gets Image\n",
    "  Output : relates it to lookup table and gets LocX and LocY\n",
    "\n",
    "  \"\"\"\n",
    "\n",
    "  d_ , LocX , LocY = 0 , 0 , 0\n",
    "\n",
    "  link = link\n",
    "  img = cv.imread(link)\n",
    "  result = model(img)\n",
    "  if result.xyxy[0].shape[0] != 0:\n",
    "\n",
    "    cordinates = result.xywh[0].cpu().numpy()[0]\n",
    "    \n",
    "    Center_x = cordinates[0] + (cordinates[2] / 2)\n",
    "    Center_y = cordinates[1] + (cordinates[3] / 2)\n",
    "\n",
    "    d_ = (h_ * f / cordinates[3])\n",
    "    look_up_table[\"difference_\"] = abs(look_up_table[\"Distance\"] - d_)\n",
    "\n",
    "    data_sub = look_up_table.copy()\n",
    "    data_sub[\"Center_x_\"] = abs(data_sub[\"Center_x\"] - Center_x)\n",
    "    data_sub[\"Center_y_\"] = abs(data_sub[\"Center_y\"] - Center_y)\n",
    "    \n",
    "    data_sub[\"Center_difference_\"] = (data_sub[\"Center_x_\"] + data_sub[\"Center_y_\"])/2\n",
    "\n",
    "    data_min = data_sub[\"Center_difference_\"].idxmin()\n",
    "    LocX = look_up_table.at[data_min , \"LocX\"]\n",
    "    LocY = look_up_table.at[data_min , \"LocY\"]\n",
    "\n",
    "   \n",
    "  else:\n",
    "    LocX = 0\n",
    "    LocX = 0\n",
    "    LocX = 0\n",
    "  # If prediction doesnt happen then return prevous data as new (helps in keeping plotting in order)\n",
    "\n",
    "  return d_ , LocX , LocY"
   ]
  },
  {
   "cell_type": "markdown",
   "metadata": {},
   "source": [
    "### Testing focal length , and above function"
   ]
  },
  {
   "cell_type": "markdown",
   "metadata": {},
   "source": [
    "#### For camera 1"
   ]
  },
  {
   "cell_type": "code",
   "execution_count": null,
   "metadata": {},
   "outputs": [
    {
     "data": {
      "text/plain": [
       "3836.985"
      ]
     },
     "execution_count": 232,
     "metadata": {},
     "output_type": "execute_result"
    }
   ],
   "source": [
    "f_cam1 = (36.7 * 167.28) / 1.6\n",
    "f_cam1"
   ]
  },
  {
   "cell_type": "code",
   "execution_count": null,
   "metadata": {},
   "outputs": [
    {
     "name": "stdout",
     "output_type": "stream",
     "text": [
      "Predicted distance (Camera to person) : 36.69923032078906\n",
      "Predicted Location X : -13.29530143737793\n",
      "Predicted Location Y : -8.62421035766602\n"
     ]
    }
   ],
   "source": [
    "d_ , LocX , LocY  = get_dis_Loc(link = \"Cam1/cam_10230.png\" , look_up_table = data_cam1 , h_ = 1.6 , f = f_cam1)\n",
    "d_ , LocX , LocY \n",
    "print(f\"Predicted distance (Camera to person) : {d_}\\nPredicted Location X : {LocX}\\nPredicted Location Y : {LocY}\")"
   ]
  },
  {
   "cell_type": "code",
   "execution_count": null,
   "metadata": {},
   "outputs": [
    {
     "name": "stdout",
     "output_type": "stream",
     "text": [
      "Actaul distance (Camera to person) : 37.0117421977993\n",
      "Predicted Location X : -13.29530143737793\n",
      "Predicted Location Y : -8.62421035766602\n"
     ]
    }
   ],
   "source": [
    "print(f\"Actaul distance (Camera to person) : {float(data_cam1[data_cam1.Frame == 230].Distance)}\\nPredicted Location X : {float(data_cam1[data_cam1.Frame == 230].LocX)}\\nPredicted Location Y : {float(data_cam1[data_cam1.Frame == 230].LocY)}\")"
   ]
  },
  {
   "cell_type": "code",
   "execution_count": null,
   "metadata": {},
   "outputs": [],
   "source": []
  },
  {
   "cell_type": "code",
   "execution_count": null,
   "metadata": {},
   "outputs": [],
   "source": []
  },
  {
   "cell_type": "markdown",
   "metadata": {},
   "source": [
    "#### For camera 2"
   ]
  },
  {
   "cell_type": "code",
   "execution_count": null,
   "metadata": {},
   "outputs": [
    {
     "data": {
      "text/plain": [
       "2193.89825"
      ]
     },
     "execution_count": 263,
     "metadata": {},
     "output_type": "execute_result"
    }
   ],
   "source": [
    "f_cam2 = (26.8 * 130.979) / 1.6\n",
    "f_cam2"
   ]
  },
  {
   "cell_type": "code",
   "execution_count": null,
   "metadata": {},
   "outputs": [
    {
     "name": "stdout",
     "output_type": "stream",
     "text": [
      "Predicted distance (Camera to person) : 26.800036666531533\n",
      "Predicted Location X : -13.29530143737793\n",
      "Predicted Location Y : -8.62421035766602\n"
     ]
    }
   ],
   "source": [
    "d_ , LocX , LocY  = get_dis_Loc(link = \"Cam2/cam_10230.png\" , look_up_table = data_cam2 , h_ = 1.6 , f = f_cam2)\n",
    "d_ , LocX , LocY \n",
    "print(f\"Predicted distance (Camera to person) : {d_}\\nPredicted Location X : {LocX}\\nPredicted Location Y : {LocY}\")"
   ]
  },
  {
   "cell_type": "code",
   "execution_count": null,
   "metadata": {},
   "outputs": [
    {
     "name": "stdout",
     "output_type": "stream",
     "text": [
      "Actaul distance (Camera to person) : 26.8535832434689\n",
      "Predicted Location X : -13.29530143737793\n",
      "Predicted Location Y : -8.62421035766602\n"
     ]
    }
   ],
   "source": [
    "print(f\"Actaul distance (Camera to person) : {float(data_cam2[data_cam2.Frame == 230].Distance)}\\nPredicted Location X : {float(data_cam2[data_cam2.Frame == 230].LocX)}\\nPredicted Location Y : {float(data_cam2[data_cam2.Frame == 230].LocY)}\")"
   ]
  },
  {
   "cell_type": "markdown",
   "metadata": {},
   "source": [
    "### Function to patch UNIDENTIFIED Distance, Location"
   ]
  },
  {
   "cell_type": "code",
   "execution_count": null,
   "metadata": {},
   "outputs": [],
   "source": [
    "def patch_prev(List : list , find , replace = None):\n",
    "    \"\"\"\n",
    "    Replaces the \"find\" with the previous value\n",
    "    \"\"\"\n",
    "    track = None\n",
    "    for index in range(len(List)):\n",
    "        if List[index] == find:\n",
    "            if index == 0:\n",
    "                raise Exception(\"First index cannot be the one to replace\")\n",
    "            else:\n",
    "                if replace is None:\n",
    "                    List[index] = track\n",
    "                else:\n",
    "                    List[index] = replace\n",
    "        \n",
    "        track = List[index]\n",
    "    return List"
   ]
  },
  {
   "cell_type": "code",
   "execution_count": null,
   "metadata": {},
   "outputs": [
    {
     "name": "stderr",
     "output_type": "stream",
     "text": [
      "100%|██████████| 230/230 [00:30<00:00,  7.51it/s]\n"
     ]
    }
   ],
   "source": [
    "# plt.xlim(-30 , 30)\n",
    "# plt.ylim(-30 , 30)\n",
    "\n",
    "LocX_cam1 = []\n",
    "LocY_cam1 = []\n",
    "distance_cam1 = []\n",
    "\n",
    "for frame in tqdm(range(1 , 230 + 1)) :\n",
    "    link = f\"Cam1/cam_1{frame:04d}.png\"\n",
    "    # print(link)\n",
    "    d_ , LocX , LocY = get_dis_Loc(link = link , look_up_table = data_cam1 , h_ = 1.6 , f = f_cam1)\n",
    "    LocX_cam1.append(LocX)\n",
    "    LocY_cam1.append(LocY)\n",
    "    distance_cam1.append(d_)\n"
   ]
  },
  {
   "cell_type": "markdown",
   "metadata": {},
   "source": [
    "# Plotting"
   ]
  },
  {
   "cell_type": "markdown",
   "metadata": {},
   "source": [
    "### For camera 1"
   ]
  },
  {
   "cell_type": "code",
   "execution_count": null,
   "metadata": {},
   "outputs": [],
   "source": [
    "LocX_cam1 = patch_prev(LocX_cam1 , find = 0)\n",
    "LocY_cam1 = patch_prev(LocY_cam1 , find = 0)\n",
    "distance_cam1 = patch_prev(distance_cam1 , find = 0)"
   ]
  },
  {
   "cell_type": "code",
   "execution_count": null,
   "metadata": {},
   "outputs": [
    {
     "data": {
      "text/plain": [
       "[<matplotlib.lines.Line2D at 0x2a19c0490>]"
      ]
     },
     "execution_count": 283,
     "metadata": {},
     "output_type": "execute_result"
    },
    {
     "data": {
      "image/png": "[encoded data removed]",
      "text/plain": [
       "<Figure size 640x480 with 1 Axes>"
      ]
     },
     "metadata": {},
     "output_type": "display_data"
    }
   ],
   "source": [
    "plt.plot(LocX_cam1 , LocY_cam1)"
   ]
  },
  {
   "cell_type": "code",
   "execution_count": null,
   "metadata": {},
   "outputs": [
    {
     "data": {
      "text/plain": [
       "[<matplotlib.lines.Line2D at 0x2a1a5d150>]"
      ]
     },
     "execution_count": 282,
     "metadata": {},
     "output_type": "execute_result"
    },
    {
     "data": {
      "image/png": "[encoded data removed]",
      "text/plain": [
       "<Figure size 640x480 with 1 Axes>"
      ]
     },
     "metadata": {},
     "output_type": "display_data"
    }
   ],
   "source": [
    "plt.plot(distance_cam1)"
   ]
  },
  {
   "cell_type": "markdown",
   "metadata": {},
   "source": [
    "### For camera 2"
   ]
  },
  {
   "cell_type": "code",
   "execution_count": null,
   "metadata": {},
   "outputs": [
    {
     "name": "stderr",
     "output_type": "stream",
     "text": [
      "100%|██████████| 230/230 [00:30<00:00,  7.42it/s]\n"
     ]
    }
   ],
   "source": [
    "\n",
    "\n",
    "LocX_cam2 = []\n",
    "LocY_cam2 = []\n",
    "distance_cam2 = []\n",
    "\n",
    "for frame in tqdm(range(1 , 230 + 1)) :\n",
    "    link = f\"Cam2/cam_1{frame:04d}.png\"\n",
    "    # print(link)\n",
    "    d_ , LocX , LocY = get_dis_Loc(link = link , look_up_table = data_cam2 , h_ = 1.6 , f = f_cam2)\n",
    "    LocX_cam2.append(LocX)\n",
    "    LocY_cam2.append(LocY)\n",
    "    distance_cam2.append(d_)\n"
   ]
  },
  {
   "cell_type": "code",
   "execution_count": null,
   "metadata": {},
   "outputs": [],
   "source": [
    "LocX_cam2 = patch_prev(LocX_cam2 , find = 0)\n",
    "LocY_cam2 = patch_prev(LocY_cam2 , find = 0)\n",
    "distance_cam2 = patch_prev(distance_cam2 , find = 0)"
   ]
  },
  {
   "cell_type": "code",
   "execution_count": null,
   "metadata": {},
   "outputs": [
    {
     "data": {
      "text/plain": [
       "[<matplotlib.lines.Line2D at 0x2a1a15350>]"
      ]
     },
     "execution_count": 286,
     "metadata": {},
     "output_type": "execute_result"
    },
    {
     "data": {
      "image/png": "[encoded data removed]",
      "text/plain": [
       "<Figure size 640x480 with 1 Axes>"
      ]
     },
     "metadata": {},
     "output_type": "display_data"
    }
   ],
   "source": [
    "plt.plot(LocX_cam2 , LocY_cam2)"
   ]
  },
  {
   "cell_type": "code",
   "execution_count": null,
   "metadata": {},
   "outputs": [
    {
     "data": {
      "text/plain": [
       "[<matplotlib.lines.Line2D at 0x2a1b16890>]"
      ]
     },
     "execution_count": 287,
     "metadata": {},
     "output_type": "execute_result"
    },
    {
     "data": {
      "image/png": "[encoded data removed]",
      "text/plain": [
       "<Figure size 640x480 with 1 Axes>"
      ]
     },
     "metadata": {},
     "output_type": "display_data"
    }
   ],
   "source": [
    "plt.plot(distance_cam2)"
   ]
  },
  {
   "cell_type": "code",
   "execution_count": null,
   "metadata": {},
   "outputs": [],
   "source": []
  }
 ],
 "metadata": {
  "kernelspec": {
   "display_name": "Python 3",
   "language": "python",
   "name": "python3"
  },
  "language_info": {
   "codemirror_mode": {
    "name": "ipython",
    "version": 3
   },
   "file_extension": ".py",
   "mimetype": "text/x-python",
   "name": "python",
   "nbconvert_exporter": "python",
   "pygments_lexer": "ipython3",
   "version": "3.11.5"
  },
  "orig_nbformat": 4
 },
 "nbformat": 4,
 "nbformat_minor": 2
}
